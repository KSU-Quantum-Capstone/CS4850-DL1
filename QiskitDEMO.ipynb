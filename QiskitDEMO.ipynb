{
 "cells": [
  {
   "cell_type": "code",
   "execution_count": 101,
   "id": "c9a95842-0ff9-4a5a-9a7c-2f8fa14b7886",
   "metadata": {},
   "outputs": [],
   "source": [
    "from qiskit import *"
   ]
  },
  {
   "cell_type": "code",
   "execution_count": 102,
   "id": "c34e2556-7ed6-4ee2-b93c-dc9d8cf98e95",
   "metadata": {},
   "outputs": [],
   "source": [
    "from qiskit.tools.visualization import plot_histogram"
   ]
  },
  {
   "cell_type": "code",
   "execution_count": 103,
   "id": "7e7e2ab5-0cc5-4819-824d-46a20071be6e",
   "metadata": {},
   "outputs": [],
   "source": [
    "from qiskit.tools.monitor import job_monitor"
   ]
  },
  {
   "cell_type": "code",
   "execution_count": 104,
   "id": "6a4ed382-504d-468f-b957-cb0c5d992eb5",
   "metadata": {},
   "outputs": [],
   "source": [
    "#this creates the circuit"
   ]
  },
  {
   "cell_type": "code",
   "execution_count": 105,
   "id": "c08aa1ff-2c65-4e27-bcfc-2e9b4a1e19e5",
   "metadata": {},
   "outputs": [],
   "source": [
    "circuit = QuantumCircuit(2, 2)"
   ]
  },
  {
   "cell_type": "code",
   "execution_count": 124,
   "id": "bfaf8d83-fe78-4b9c-abb0-f02e6f33a1da",
   "metadata": {},
   "outputs": [],
   "source": [
    "#Adding a hadamard gate to the first qubit. This creates a superposition state (either 0 or 1)"
   ]
  },
  {
   "cell_type": "code",
   "execution_count": 107,
   "id": "1dedb613-2e33-4b46-83d0-c8af2f56a311",
   "metadata": {},
   "outputs": [
    {
     "data": {
      "text/plain": [
       "<qiskit.circuit.instructionset.InstructionSet at 0x2767eef0af0>"
      ]
     },
     "execution_count": 107,
     "metadata": {},
     "output_type": "execute_result"
    }
   ],
   "source": [
    "circuit.h(0)"
   ]
  },
  {
   "cell_type": "code",
   "execution_count": 125,
   "id": "4bbc0d49-f54f-4370-9b4f-1668b6de0ae0",
   "metadata": {},
   "outputs": [],
   "source": [
    "#adds controlled not gate to the circuit. This creates entanglement between the 2 qubits"
   ]
  },
  {
   "cell_type": "code",
   "execution_count": 109,
   "id": "c5f35cbf-016c-482b-8c3f-3b517e3026f1",
   "metadata": {},
   "outputs": [
    {
     "data": {
      "text/plain": [
       "<qiskit.circuit.instructionset.InstructionSet at 0x2767eec3010>"
      ]
     },
     "execution_count": 109,
     "metadata": {},
     "output_type": "execute_result"
    }
   ],
   "source": [
    "circuit.cx(0,1)"
   ]
  },
  {
   "cell_type": "code",
   "execution_count": 110,
   "id": "592e0668-dfcb-4e7e-8328-730e5ddd9f72",
   "metadata": {},
   "outputs": [],
   "source": [
    "#sets up measurements for the quantum registers that are mapped to the classical registers"
   ]
  },
  {
   "cell_type": "code",
   "execution_count": 111,
   "id": "ae3ded6a-9dff-4073-b653-c1653ac9c19c",
   "metadata": {},
   "outputs": [
    {
     "data": {
      "text/plain": [
       "<qiskit.circuit.instructionset.InstructionSet at 0x2767eef0820>"
      ]
     },
     "execution_count": 111,
     "metadata": {},
     "output_type": "execute_result"
    }
   ],
   "source": [
    "circuit.measure([0,1],[0,1])"
   ]
  },
  {
   "cell_type": "code",
   "execution_count": 112,
   "id": "1f43d918-7b2e-4bf7-811f-3ac1e4630908",
   "metadata": {},
   "outputs": [],
   "source": [
    "#what the circuit looks like so far:"
   ]
  },
  {
   "cell_type": "code",
   "execution_count": 113,
   "id": "d9151e96-5e9a-4a15-9a0a-8c24dd520eeb",
   "metadata": {},
   "outputs": [
    {
     "data": {
      "image/png": "[encoded data removed]",
      "text/plain": [
       "<Figure size 454.517x284.278 with 1 Axes>"
      ]
     },
     "execution_count": 113,
     "metadata": {},
     "output_type": "execute_result"
    }
   ],
   "source": [
    "circuit.draw('mpl')"
   ]
  },
  {
   "cell_type": "code",
   "execution_count": 114,
   "id": "c05d7b4a-6d21-4b01-9da2-3c09c4ef4330",
   "metadata": {},
   "outputs": [],
   "source": [
    "#This is an example using a SIMULATOR"
   ]
  },
  {
   "cell_type": "code",
   "execution_count": 115,
   "id": "513f5486-ab74-4015-8901-91bf037a124d",
   "metadata": {},
   "outputs": [],
   "source": [
    "simulator = Aer.get_backend('qasm_simulator')"
   ]
  },
  {
   "cell_type": "code",
   "execution_count": 116,
   "id": "9c79ff55-b1ba-4cbc-8d56-39e54adb83fb",
   "metadata": {},
   "outputs": [],
   "source": [
    "result = execute(circuit, backend= simulator, shots = 1000).result()"
   ]
  },
  {
   "cell_type": "code",
   "execution_count": 117,
   "id": "900ca00c-253d-4cdf-9eea-31b5cbe05089",
   "metadata": {},
   "outputs": [
    {
     "data": {
      "image/png": "[encoded data removed]",
      "text/plain": [
       "<Figure size 700x500 with 1 Axes>"
      ]
     },
     "execution_count": 117,
     "metadata": {},
     "output_type": "execute_result"
    }
   ],
   "source": [
    "plot_histogram(result.get_counts(circuit))"
   ]
  },
  {
   "cell_type": "code",
   "execution_count": 118,
   "id": "f8ba82ba-9000-44a7-921f-b6cdb3bb4a5e",
   "metadata": {},
   "outputs": [],
   "source": [
    "#This will connect it to a real quantum computer"
   ]
  },
  {
   "cell_type": "code",
   "execution_count": 119,
   "id": "55dd7579-4adf-4495-9ca2-3496d9a4fe79",
   "metadata": {},
   "outputs": [
    {
     "name": "stderr",
     "output_type": "stream",
     "text": [
      "ibmqfactory.load_account:WARNING:2022-09-15 15:11:16,751: Credentials are already in use. The existing account in the session will be replaced.\n"
     ]
    },
    {
     "data": {
      "text/plain": [
       "<AccountProvider for IBMQ(hub='ibm-q', group='open', project='main')>"
      ]
     },
     "execution_count": 119,
     "metadata": {},
     "output_type": "execute_result"
    }
   ],
   "source": [
    "IBMQ.load_account()"
   ]
  },
  {
   "cell_type": "code",
   "execution_count": 120,
   "id": "b949699a-ff7c-441b-ae6c-c78e3442d043",
   "metadata": {},
   "outputs": [],
   "source": [
    "provider = IBMQ.get_provider('ibm-q')"
   ]
  },
  {
   "cell_type": "code",
   "execution_count": 121,
   "id": "3f77307e-8b9f-45e2-9d97-d3d179a34ffe",
   "metadata": {},
   "outputs": [],
   "source": [
    "qcomp = provider.get_backend('ibmq_lima')"
   ]
  },
  {
   "cell_type": "code",
   "execution_count": 122,
   "id": "e2b6f217-69e2-426b-ab98-e66862c72636",
   "metadata": {},
   "outputs": [],
   "source": [
    "job = execute(circuit, backend=qcomp)"
   ]
  },
  {
   "cell_type": "code",
   "execution_count": 123,
   "id": "99d77271-c4ba-4fd6-ac59-3c28e12dc526",
   "metadata": {},
   "outputs": [
    {
     "name": "stdout",
     "output_type": "stream",
     "text": [
      "Job Status: job has successfully run\n"
     ]
    }
   ],
   "source": [
    "job_monitor(job)"
   ]
  },
  {
   "cell_type": "code",
   "execution_count": 48,
   "id": "c71b8b6f-d2b3-4946-8b0e-9ed10a7e9547",
   "metadata": {},
   "outputs": [],
   "source": [
    "result = job.result()"
   ]
  },
  {
   "cell_type": "code",
   "execution_count": 49,
   "id": "ce8928ae-4151-47d0-a891-ce75c2eefbe6",
   "metadata": {},
   "outputs": [
    {
     "data": {
      "image/png": "[encoded data removed]",
      "text/plain": [
       "<Figure size 700x500 with 1 Axes>"
      ]
     },
     "execution_count": 49,
     "metadata": {},
     "output_type": "execute_result"
    }
   ],
   "source": [
    "plot_histogram(result.get_counts(circuit))"
   ]
  },
  {
   "cell_type": "code",
   "execution_count": null,
   "id": "d91bfec8-1ca3-4dbb-9883-68db2c70ce0c",
   "metadata": {},
   "outputs": [],
   "source": []
  }
 ],
 "metadata": {
  "kernelspec": {
   "display_name": "Python 3 (ipykernel)",
   "language": "python",
   "name": "python3"
  },
  "language_info": {
   "codemirror_mode": {
    "name": "ipython",
    "version": 3
   },
   "file_extension": ".py",
   "mimetype": "text/x-python",
   "name": "python",
   "nbconvert_exporter": "python",
   "pygments_lexer": "ipython3",
   "version": "3.10.4"
  }
 },
 "nbformat": 4,
 "nbformat_minor": 5
}
