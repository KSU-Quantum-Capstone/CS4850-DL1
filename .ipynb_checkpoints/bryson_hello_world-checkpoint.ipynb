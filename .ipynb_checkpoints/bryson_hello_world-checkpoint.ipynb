{
 "cells": [
  {
   "cell_type": "code",
   "execution_count": 37,
   "id": "6bb25c49-f749-42ea-9cfd-6f2e7a0968ad",
   "metadata": {
    "tags": []
   },
   "outputs": [],
   "source": [
    "# imports qiskit library with aer simulator, visualizations, and quantum circuits\n",
    "import numpy as np\n",
    "from qiskit import QuantumCircuit\n",
    "from qiskit.quantum_info import Statevector\n",
    "from qiskit import transpile\n",
    "from qiskit.providers.aer import AerSimulator\n",
    "from qiskit.visualization import plot_histogram\n",
    "from qiskit import IBMQ"
   ]
  },
  {
   "cell_type": "code",
   "execution_count": 38,
   "id": "791c3764-30ba-45a7-8399-5d7dc4709702",
   "metadata": {},
   "outputs": [
    {
     "name": "stderr",
     "output_type": "stream",
     "text": [
      "ibmqfactory.load_account:WARNING:2022-09-14 15:03:25,007: Credentials are already in use. The existing account in the session will be replaced.\n"
     ]
    },
    {
     "name": "stdout",
     "output_type": "stream",
     "text": [
      "ibmq_qasm_simulator\n",
      "Number of qubits: 32\n",
      "Number of pending jobs: 1\n",
      "\n",
      "ibmq_lima\n",
      "Number of qubits: 5\n",
      "Number of pending jobs: 475\n",
      "\n",
      "ibmq_belem\n",
      "Number of qubits: 5\n",
      "Number of pending jobs: 100\n",
      "\n",
      "ibmq_quito\n",
      "Number of qubits: 5\n",
      "Number of pending jobs: 99\n",
      "\n",
      "simulator_statevector\n",
      "Number of qubits: 32\n",
      "Number of pending jobs: 1\n",
      "\n",
      "simulator_mps\n",
      "Number of qubits: 100\n",
      "Number of pending jobs: 1\n",
      "\n",
      "simulator_extended_stabilizer\n",
      "Number of qubits: 63\n",
      "Number of pending jobs: 1\n",
      "\n",
      "simulator_stabilizer\n",
      "Number of qubits: 5000\n",
      "Number of pending jobs: 1\n",
      "\n",
      "ibmq_manila\n",
      "Number of qubits: 5\n",
      "Number of pending jobs: 125\n",
      "\n",
      "ibm_nairobi\n",
      "Number of qubits: 7\n",
      "Number of pending jobs: 166\n",
      "\n",
      "ibm_oslo\n",
      "Number of qubits: 7\n",
      "Number of pending jobs: 330\n",
      "\n"
     ]
    },
    {
     "data": {
      "image/png": "[encoded data removed]",
      "text/plain": [
       "<Figure size 705.552x367.889 with 1 Axes>"
      ]
     },
     "execution_count": 38,
     "metadata": {},
     "output_type": "execute_result"
    }
   ],
   "source": [
    "# accesses IBM account ID, laods account and returns the provider object which accesses all of the backends\n",
    "IBMQ.save_account('enter account token here', overwrite=True)\n",
    "provider = IBMQ.load_account()\n",
    "myprovider = IBMQ.get_provider()\n",
    "\n",
    "# prints the information for every backend in the provider (name, number of qubits, and number of pending jobs)\n",
    "for b in myprovider.backends():\n",
    "    print(b)\n",
    "    print(\"Number of qubits: \" + str(b.configuration().n_qubits))\n",
    "    print (\"Number of pending jobs: \" + str(b.status().pending_jobs))\n",
    "    print()\n",
    "    \n",
    "# creates a circuit with three qubits and three classical bits\n",
    "# in order: applies a hadamard gate to qubit 0, adds a CNOT gate with control 0 and target 1\n",
    "# applies a CNOT gate with control 0 and target 2, adds a barrier, measures each qubit and \n",
    "# records the result into the correspondingly numbered classical bit, draws the circuit\n",
    "circ = QuantumCircuit(3, 3)\n",
    "circ.h(0)\n",
    "circ.cx(0,1)\n",
    "circ.cx(0,2)\n",
    "circ.barrier(range(3))\n",
    "circ.measure(range(3), range(3))\n",
    "circ.draw('mpl')"
   ]
  },
  {
   "cell_type": "code",
   "execution_count": 39,
   "id": "4fc044de-98a8-4e6a-b86a-22e8f52420b4",
   "metadata": {},
   "outputs": [],
   "source": [
    "# aquires the specified backend, transpiles 'circ' for the toppology of the specified backend\n",
    "# creates a job and adds it to that queue to be ran 100 times\n",
    "backend = myprovider.get_backend('ibmq_lima')\n",
    "instructions = transpile(circ, backend)\n",
    "simulation = backend.run(instructions, shots=100)"
   ]
  },
  {
   "cell_type": "code",
   "execution_count": null,
   "id": "a9a2c118-6280-4489-9a94-f742f69f9560",
   "metadata": {},
   "outputs": [],
   "source": [
    "# can be ran intermitently to obtain the progress of the job in the queue\n",
    "print(simulation.queue_info())"
   ]
  },
  {
   "cell_type": "code",
   "execution_count": null,
   "id": "da239bc0-250f-4646-870f-9730ea878b18",
   "metadata": {},
   "outputs": [],
   "source": [
    "# obtains the results of the 100 runs and plots the histogram of all of the output configurations\n",
    "results = simulation.result()\n",
    "counts = results.get_counts(instructions)\n",
    "plot_histogram(counts)"
   ]
  },
  {
   "cell_type": "code",
   "execution_count": null,
   "id": "1d0bce6f-d85f-4b91-8401-6ca1e535211f",
   "metadata": {},
   "outputs": [],
   "source": []
  }
 ],
 "metadata": {
  "kernelspec": {
   "display_name": "Python 3 (ipykernel)",
   "language": "python",
   "name": "python3"
  },
  "language_info": {
   "codemirror_mode": {
    "name": "ipython",
    "version": 3
   },
   "file_extension": ".py",
   "mimetype": "text/x-python",
   "name": "python",
   "nbconvert_exporter": "python",
   "pygments_lexer": "ipython3",
   "version": "3.9.13"
  },
  "toc-autonumbering": true
 },
 "nbformat": 4,
 "nbformat_minor": 5
}
